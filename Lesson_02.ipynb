{
 "cells": [
  {
   "cell_type": "code",
   "execution_count": 1,
   "metadata": {},
   "outputs": [],
   "source": [
    "import pandas as pd\n",
    "\n",
    "import warnings\n",
    "warnings.filterwarnings('ignore')"
   ]
  },
  {
   "cell_type": "code",
   "execution_count": 2,
   "metadata": {},
   "outputs": [
    {
     "name": "stdout",
     "output_type": "stream",
     "text": [
      "(27000, 2)\n"
     ]
    },
    {
     "data": {
      "text/html": [
       "<div>\n",
       "<style scoped>\n",
       "    .dataframe tbody tr th:only-of-type {\n",
       "        vertical-align: middle;\n",
       "    }\n",
       "\n",
       "    .dataframe tbody tr th {\n",
       "        vertical-align: top;\n",
       "    }\n",
       "\n",
       "    .dataframe thead th {\n",
       "        text-align: right;\n",
       "    }\n",
       "</style>\n",
       "<table border=\"1\" class=\"dataframe\">\n",
       "  <thead>\n",
       "    <tr style=\"text-align: right;\">\n",
       "      <th></th>\n",
       "      <th>doc_id</th>\n",
       "      <th>title</th>\n",
       "    </tr>\n",
       "  </thead>\n",
       "  <tbody>\n",
       "    <tr>\n",
       "      <th>0</th>\n",
       "      <td>6</td>\n",
       "      <td>Заместитель председателяnправительства РФnСерг...</td>\n",
       "    </tr>\n",
       "    <tr>\n",
       "      <th>1</th>\n",
       "      <td>4896</td>\n",
       "      <td>Матч 1/16 финала Кубка России по футболу был п...</td>\n",
       "    </tr>\n",
       "    <tr>\n",
       "      <th>2</th>\n",
       "      <td>4897</td>\n",
       "      <td>Форвард «Авангарда» Томаш Заборский прокоммент...</td>\n",
       "    </tr>\n",
       "  </tbody>\n",
       "</table>\n",
       "</div>"
      ],
      "text/plain": [
       "   doc_id                                              title\n",
       "0       6  Заместитель председателяnправительства РФnСерг...\n",
       "1    4896  Матч 1/16 финала Кубка России по футболу был п...\n",
       "2    4897  Форвард «Авангарда» Томаш Заборский прокоммент..."
      ]
     },
     "execution_count": 2,
     "metadata": {},
     "output_type": "execute_result"
    }
   ],
   "source": [
    "news = pd.read_csv(\"materials.csv\")\n",
    "print(news.shape)\n",
    "news.head(3)"
   ]
  },
  {
   "cell_type": "markdown",
   "metadata": {},
   "source": [
    "Загрузим пользователей и списки последних прочитанных новостей"
   ]
  },
  {
   "cell_type": "code",
   "execution_count": 3,
   "metadata": {},
   "outputs": [
    {
     "data": {
      "text/html": [
       "<div>\n",
       "<style scoped>\n",
       "    .dataframe tbody tr th:only-of-type {\n",
       "        vertical-align: middle;\n",
       "    }\n",
       "\n",
       "    .dataframe tbody tr th {\n",
       "        vertical-align: top;\n",
       "    }\n",
       "\n",
       "    .dataframe thead th {\n",
       "        text-align: right;\n",
       "    }\n",
       "</style>\n",
       "<table border=\"1\" class=\"dataframe\">\n",
       "  <thead>\n",
       "    <tr style=\"text-align: right;\">\n",
       "      <th></th>\n",
       "      <th>uid</th>\n",
       "      <th>articles</th>\n",
       "    </tr>\n",
       "  </thead>\n",
       "  <tbody>\n",
       "    <tr>\n",
       "      <th>0</th>\n",
       "      <td>u105138</td>\n",
       "      <td>[293672, 293328, 293001, 293622, 293126, 1852]</td>\n",
       "    </tr>\n",
       "    <tr>\n",
       "      <th>1</th>\n",
       "      <td>u108690</td>\n",
       "      <td>[3405, 1739, 2972, 1158, 1599, 322665]</td>\n",
       "    </tr>\n",
       "    <tr>\n",
       "      <th>2</th>\n",
       "      <td>u108339</td>\n",
       "      <td>[1845, 2009, 2356, 1424, 2939, 323389]</td>\n",
       "    </tr>\n",
       "  </tbody>\n",
       "</table>\n",
       "</div>"
      ],
      "text/plain": [
       "       uid                                        articles\n",
       "0  u105138  [293672, 293328, 293001, 293622, 293126, 1852]\n",
       "1  u108690          [3405, 1739, 2972, 1158, 1599, 322665]\n",
       "2  u108339          [1845, 2009, 2356, 1424, 2939, 323389]"
      ]
     },
     "execution_count": 3,
     "metadata": {},
     "output_type": "execute_result"
    }
   ],
   "source": [
    "users = pd.read_csv(\"users_articles.csv\")\n",
    "users.head(3)"
   ]
  },
  {
   "cell_type": "markdown",
   "metadata": {},
   "source": [
    "### 1. Получаем векторные представления новостей"
   ]
  },
  {
   "cell_type": "code",
   "execution_count": 4,
   "metadata": {},
   "outputs": [],
   "source": [
    "# %pip install gensim"
   ]
  },
  {
   "cell_type": "code",
   "execution_count": 5,
   "metadata": {},
   "outputs": [],
   "source": [
    "#from gensim.test.utils import common_texts\n",
    "from gensim.corpora.dictionary import Dictionary"
   ]
  },
  {
   "cell_type": "code",
   "execution_count": 6,
   "metadata": {
    "scrolled": false
   },
   "outputs": [],
   "source": [
    "# %pip install razdel\n",
    "# %pip install pymorphy2\n",
    "# %pip install --upgrade nltk\n",
    "# import nltk\n",
    "# nltk.download('stopwords')"
   ]
  },
  {
   "cell_type": "code",
   "execution_count": 7,
   "metadata": {},
   "outputs": [],
   "source": [
    "#предобработка текстов\n",
    "import re\n",
    "import numpy as np\n",
    "\n",
    "from nltk.corpus import stopwords\n",
    "\n",
    "#from nltk.tokenize import word_tokenize\n",
    "\n",
    "from razdel import tokenize # https://github.com/natasha/razdel\n",
    "\n",
    "import pymorphy2  "
   ]
  },
  {
   "cell_type": "code",
   "execution_count": 8,
   "metadata": {},
   "outputs": [],
   "source": [
    "stopword_ru = stopwords.words('russian')\n",
    "\n",
    "len(stopword_ru)\n",
    "\n",
    "morph = pymorphy2.MorphAnalyzer()"
   ]
  },
  {
   "cell_type": "code",
   "execution_count": 9,
   "metadata": {},
   "outputs": [
    {
     "data": {
      "text/plain": [
       "776"
      ]
     },
     "execution_count": 9,
     "metadata": {},
     "output_type": "execute_result"
    }
   ],
   "source": [
    "with open('stopwords.txt') as f:\n",
    "    additional_stopwords = [w.strip() for w in f.readlines() if w]\n",
    "stopword_ru += additional_stopwords\n",
    "len(stopword_ru)"
   ]
  },
  {
   "cell_type": "code",
   "execution_count": 10,
   "metadata": {},
   "outputs": [],
   "source": [
    "def clean_text(text):\n",
    "    '''\n",
    "    очистка текста\n",
    "    \n",
    "    на выходе очищеный текст\n",
    "    \n",
    "    '''\n",
    "    if not isinstance(text, str):\n",
    "        text = str(text)\n",
    "    \n",
    "    text = text.lower()\n",
    "    text = text.strip('\\n').strip('\\r').strip('\\t')\n",
    "    text = re.sub(\"-\\s\\r\\n\\|-\\s\\r\\n|\\r\\n\", '', str(text))\n",
    "\n",
    "    text = re.sub(\"[0-9]|[-—.,:;_%©«»?*!@#№$^•·&()]|[+=]|[[]|[]]|[/]|\", '', text)\n",
    "    text = re.sub(r\"\\r\\n\\t|\\n|\\\\s|\\r\\t|\\\\n\", ' ', text)\n",
    "    text = re.sub(r'[\\xad]|[\\s+]', ' ', text.strip())\n",
    "    \n",
    "    #tokens = list(tokenize(text))\n",
    "    #words = [_.text for _ in tokens]\n",
    "    #words = [w for w in words if w not in stopword_ru]\n",
    "    \n",
    "    #return \" \".join(words)\n",
    "    return text\n",
    "\n",
    "cache = {}\n",
    "\n",
    "def lemmatization(text):\n",
    "    '''\n",
    "    лемматизация\n",
    "        [0] если зашел тип не `str` делаем его `str`\n",
    "        [1] токенизация предложения через razdel\n",
    "        [2] проверка есть ли в начале слова '-'\n",
    "        [3] проверка токена с одного символа\n",
    "        [4] проверка есть ли данное слово в кэше\n",
    "        [5] лемматизация слова\n",
    "        [6] проверка на стоп-слова\n",
    "\n",
    "    на выходе лист отлемматизированых токенов\n",
    "    '''\n",
    "\n",
    "    # [0]\n",
    "    if not isinstance(text, str):\n",
    "        text = str(text)\n",
    "    \n",
    "    # [1]\n",
    "    tokens = list(tokenize(text))\n",
    "    words = [_.text for _ in tokens]\n",
    "\n",
    "    words_lem = []\n",
    "    for w in words:\n",
    "        if w[0] == '-': # [2]\n",
    "            w = w[1:]\n",
    "        if len(w)>1: # [3]\n",
    "            if w in cache: # [4]\n",
    "                words_lem.append(cache[w])\n",
    "            else: # [5]\n",
    "                temp_cach = cache[w] = morph.parse(w)[0].normal_form\n",
    "                words_lem.append(temp_cach)\n",
    "    \n",
    "    words_lem_without_stopwords=[i for i in words_lem if not i in stopword_ru] # [6]\n",
    "    \n",
    "    return words_lem_without_stopwords"
   ]
  },
  {
   "cell_type": "code",
   "execution_count": 11,
   "metadata": {
    "scrolled": true
   },
   "outputs": [
    {
     "name": "stdout",
     "output_type": "stream",
     "text": [
      "CPU times: user 32.3 s, sys: 758 ms, total: 33.1 s\n",
      "Wall time: 37.6 s\n"
     ]
    }
   ],
   "source": [
    "%%time\n",
    "#Запускаем очистку текста. Будет долго...\n",
    "news['title'] = news['title'].apply(lambda x: clean_text(x), 1)"
   ]
  },
  {
   "cell_type": "code",
   "execution_count": 12,
   "metadata": {},
   "outputs": [
    {
     "name": "stdout",
     "output_type": "stream",
     "text": [
      "CPU times: user 4min 19s, sys: 4.4 s, total: 4min 24s\n",
      "Wall time: 5min 15s\n"
     ]
    }
   ],
   "source": [
    "%%time\n",
    "#Запускаем лемматизацию текста. Будет очень долго...\n",
    "news['title'] = news['title'].apply(lambda x: lemmatization(x), 1)"
   ]
  },
  {
   "cell_type": "markdown",
   "metadata": {},
   "source": [
    "А теперь в 3 строчки обучим нашу модель"
   ]
  },
  {
   "cell_type": "code",
   "execution_count": 13,
   "metadata": {},
   "outputs": [],
   "source": [
    "#сформируем список наших текстов, разбив еще и на пробелы\n",
    "texts = [t for t in news['title'].values]\n",
    "\n",
    "# Create a corpus from a list of texts\n",
    "common_dictionary = Dictionary(texts)\n",
    "common_corpus = [common_dictionary.doc2bow(text) for text in texts]"
   ]
  },
  {
   "cell_type": "markdown",
   "metadata": {},
   "source": [
    "Что такое common_dictionary и как он выглядит"
   ]
  },
  {
   "cell_type": "code",
   "execution_count": 14,
   "metadata": {},
   "outputs": [
    {
     "data": {
      "text/plain": [
       "'ватутин'"
      ]
     },
     "execution_count": 14,
     "metadata": {},
     "output_type": "execute_result"
    }
   ],
   "source": [
    "common_dictionary[10]"
   ]
  },
  {
   "cell_type": "markdown",
   "metadata": {},
   "source": [
    "Запускаем обучение"
   ]
  },
  {
   "cell_type": "code",
   "execution_count": 15,
   "metadata": {},
   "outputs": [],
   "source": [
    "from gensim.models import LdaModel"
   ]
  },
  {
   "cell_type": "code",
   "execution_count": 16,
   "metadata": {},
   "outputs": [],
   "source": [
    "# LdaModel?"
   ]
  },
  {
   "cell_type": "code",
   "execution_count": 41,
   "metadata": {
    "collapsed": true
   },
   "outputs": [],
   "source": [
    "topics_count = 32"
   ]
  },
  {
   "cell_type": "code",
   "execution_count": 42,
   "metadata": {},
   "outputs": [
    {
     "name": "stdout",
     "output_type": "stream",
     "text": [
      "CPU times: user 1min 7s, sys: 1.83 s, total: 1min 8s\n",
      "Wall time: 47.9 s\n"
     ]
    }
   ],
   "source": [
    "%%time\n",
    "from gensim.models import LdaModel\n",
    "# Train the model on the corpus.\n",
    "lda = LdaModel(common_corpus, num_topics=topics_count, id2word=common_dictionary)#, passes=10)"
   ]
  },
  {
   "cell_type": "code",
   "execution_count": 43,
   "metadata": {},
   "outputs": [],
   "source": [
    "from gensim.test.utils import datapath\n",
    "# Save model to disk.\n",
    "temp_file = datapath(\"model.lda\")\n",
    "lda.save(temp_file)\n",
    "\n",
    "# Load a potentially pretrained model from disk.\n",
    "lda = LdaModel.load(temp_file)"
   ]
  },
  {
   "cell_type": "code",
   "execution_count": 44,
   "metadata": {},
   "outputs": [
    {
     "name": "stdout",
     "output_type": "stream",
     "text": [
      "['форвард', 'авангард', 'томаш', 'заборский', 'прокомментировать', 'игра', 'команда', 'матч', 'чемпионат', 'кхл', 'против', 'атланта', 'nnnn', 'плохой', 'матч', 'нижний', 'новгород', 'против', 'торпедо', 'настраиваться', 'первый', 'минута', 'включиться', 'заборский', 'получиться', 'забросить', 'быстрый', 'гол', 'задать', 'хороший', 'темп', 'поединок', 'играть', 'хороший', 'сторона', 'пять', 'очко', 'выезд', 'девять', 'хороший']\n"
     ]
    },
    {
     "data": {
      "text/plain": [
       "[(3, 0.4173902),\n",
       " (11, 0.22214563),\n",
       " (18, 0.07403731),\n",
       " (29, 0.2157163),\n",
       " (31, 0.04834716)]"
      ]
     },
     "execution_count": 44,
     "metadata": {},
     "output_type": "execute_result"
    }
   ],
   "source": [
    "# Create a new corpus, made of previously unseen documents.\n",
    "other_texts = [t for t in news['title'].iloc[:3]]\n",
    "other_corpus = [common_dictionary.doc2bow(text) for text in other_texts]\n",
    "\n",
    "unseen_doc = other_corpus[2]\n",
    "print(other_texts[2])\n",
    "lda[unseen_doc] "
   ]
  },
  {
   "cell_type": "code",
   "execution_count": 45,
   "metadata": {},
   "outputs": [
    {
     "name": "stdout",
     "output_type": "stream",
     "text": [
      "topic_0: ребёнок возраст форум мужчина семья знаменитый больной\n",
      "topic_1: средний министерство министр реформа сохранение годовой сенатор\n",
      "topic_2: жертва тело произойти глава журналист местный инцидент\n",
      "topic_3: рак мышь почва лечение заработок ричард мышца\n",
      "topic_4: запустить журнал огонь км тепло явление рт\n",
      "topic_5: россия российский сша nn американский глава исследование\n",
      "topic_6: газ фонд писать риск агентство система газета\n",
      "topic_7: греция фотография гарантия автобус сон болгария кровь\n",
      "topic_8: военный космонавт боевой армия специальный советский оборона\n",
      "topic_9: египет восток доля выделить бомба кремль сообщение\n",
      "topic_10: рубль сотрудник уголовный задержать следствие страдать размер\n",
      "topic_11: снижение энергия фестиваль супруг задать паника вечный\n",
      "topic_12: станция житель столица мероприятие центр около праздник\n",
      "topic_13: журнал взрыв иск виза вуз приостановить агентство\n",
      "topic_14: nn километр конкурс университет первый день фильм\n",
      "topic_15: проект новый развитие программа область правительство эксперт\n",
      "topic_16: продукция вода ск объяснять фрагмент карта глубина\n",
      "topic_17: мозг смерть женщина врач улица городской операция\n",
      "topic_18: участок торговый рейс аэропорт соглашение москва вскоре\n",
      "topic_19: вирус лаборатория устойчивость широко снежный горький парка\n",
      "topic_20: градус вероятно небо девочка управление белый употребление\n",
      "topic_21: гражданин народный фронт россиянин правовой саммит предмет\n",
      "topic_22: млн экономика составить ставка показатель применение место\n",
      "topic_23: млрд остров расход китай доллар учреждение рост\n",
      "topic_24: банк рост рынок всё экономический газета цена\n",
      "topic_25: научный жизнь всё университет очень жить женщина\n",
      "topic_26: исследование тыс цена поток млн стоимость продажа\n",
      "topic_27: ракета район погибнуть операция территория сша пострадать\n",
      "topic_28: турецкий поверхность обращение турция иран дождь треть\n",
      "topic_29: земля первый всё статья век день автор\n",
      "topic_30: обнаружить двигатель температура тело падение топливо скорость\n",
      "topic_31: украина nn экипаж россия памятник украинский российский\n"
     ]
    }
   ],
   "source": [
    "x=lda.show_topics(num_topics=topics_count, num_words=7,formatted=False)\n",
    "topics_words = [(tp[0], [wd[0] for wd in tp[1]]) for tp in x]\n",
    "\n",
    "#Below Code Prints Only Words \n",
    "for topic,words in topics_words:\n",
    "    print(\"topic_{}: \".format(topic)+\" \".join(words))"
   ]
  },
  {
   "cell_type": "code",
   "execution_count": 51,
   "metadata": {},
   "outputs": [],
   "source": [
    "#text = news['title'].iloc[0]\n",
    "\n",
    "def get_lda_vector(text, topics_count):\n",
    "    unseen_doc = common_dictionary.doc2bow(text)\n",
    "    lda_tuple = lda[unseen_doc]\n",
    "    not_null_topics = dict(zip([i[0] for i in lda_tuple], [i[1] for i in lda_tuple]))\n",
    "\n",
    "    output_vector = []\n",
    "    for i in range(topics_count):\n",
    "        if i not in not_null_topics:\n",
    "            output_vector.append(0)\n",
    "        else:\n",
    "            output_vector.append(not_null_topics[i])\n",
    "    return np.array(output_vector)"
   ]
  },
  {
   "cell_type": "code",
   "execution_count": 52,
   "metadata": {},
   "outputs": [
    {
     "data": {
      "text/html": [
       "<div>\n",
       "<style scoped>\n",
       "    .dataframe tbody tr th:only-of-type {\n",
       "        vertical-align: middle;\n",
       "    }\n",
       "\n",
       "    .dataframe tbody tr th {\n",
       "        vertical-align: top;\n",
       "    }\n",
       "\n",
       "    .dataframe thead th {\n",
       "        text-align: right;\n",
       "    }\n",
       "</style>\n",
       "<table border=\"1\" class=\"dataframe\">\n",
       "  <thead>\n",
       "    <tr style=\"text-align: right;\">\n",
       "      <th></th>\n",
       "      <th>doc_id</th>\n",
       "      <th>topic_0</th>\n",
       "      <th>topic_1</th>\n",
       "      <th>topic_2</th>\n",
       "      <th>topic_3</th>\n",
       "      <th>topic_4</th>\n",
       "      <th>topic_5</th>\n",
       "      <th>topic_6</th>\n",
       "      <th>topic_7</th>\n",
       "      <th>topic_8</th>\n",
       "      <th>...</th>\n",
       "      <th>topic_22</th>\n",
       "      <th>topic_23</th>\n",
       "      <th>topic_24</th>\n",
       "      <th>topic_25</th>\n",
       "      <th>topic_26</th>\n",
       "      <th>topic_27</th>\n",
       "      <th>topic_28</th>\n",
       "      <th>topic_29</th>\n",
       "      <th>topic_30</th>\n",
       "      <th>topic_31</th>\n",
       "    </tr>\n",
       "  </thead>\n",
       "  <tbody>\n",
       "    <tr>\n",
       "      <th>0</th>\n",
       "      <td>6</td>\n",
       "      <td>0.000000</td>\n",
       "      <td>0.0</td>\n",
       "      <td>0.0</td>\n",
       "      <td>0.069153</td>\n",
       "      <td>0.0</td>\n",
       "      <td>0.210024</td>\n",
       "      <td>0.000000</td>\n",
       "      <td>0.0</td>\n",
       "      <td>0.0</td>\n",
       "      <td>...</td>\n",
       "      <td>0.0</td>\n",
       "      <td>0.0</td>\n",
       "      <td>0.352351</td>\n",
       "      <td>0.0</td>\n",
       "      <td>0.0</td>\n",
       "      <td>0.0</td>\n",
       "      <td>0.0</td>\n",
       "      <td>0.000000</td>\n",
       "      <td>0.0</td>\n",
       "      <td>0.034111</td>\n",
       "    </tr>\n",
       "    <tr>\n",
       "      <th>1</th>\n",
       "      <td>4896</td>\n",
       "      <td>0.070927</td>\n",
       "      <td>0.0</td>\n",
       "      <td>0.0</td>\n",
       "      <td>0.266795</td>\n",
       "      <td>0.0</td>\n",
       "      <td>0.000000</td>\n",
       "      <td>0.000000</td>\n",
       "      <td>0.0</td>\n",
       "      <td>0.0</td>\n",
       "      <td>...</td>\n",
       "      <td>0.0</td>\n",
       "      <td>0.0</td>\n",
       "      <td>0.000000</td>\n",
       "      <td>0.0</td>\n",
       "      <td>0.0</td>\n",
       "      <td>0.0</td>\n",
       "      <td>0.0</td>\n",
       "      <td>0.000000</td>\n",
       "      <td>0.0</td>\n",
       "      <td>0.000000</td>\n",
       "    </tr>\n",
       "    <tr>\n",
       "      <th>2</th>\n",
       "      <td>4897</td>\n",
       "      <td>0.000000</td>\n",
       "      <td>0.0</td>\n",
       "      <td>0.0</td>\n",
       "      <td>0.417366</td>\n",
       "      <td>0.0</td>\n",
       "      <td>0.000000</td>\n",
       "      <td>0.000000</td>\n",
       "      <td>0.0</td>\n",
       "      <td>0.0</td>\n",
       "      <td>...</td>\n",
       "      <td>0.0</td>\n",
       "      <td>0.0</td>\n",
       "      <td>0.000000</td>\n",
       "      <td>0.0</td>\n",
       "      <td>0.0</td>\n",
       "      <td>0.0</td>\n",
       "      <td>0.0</td>\n",
       "      <td>0.215862</td>\n",
       "      <td>0.0</td>\n",
       "      <td>0.048322</td>\n",
       "    </tr>\n",
       "    <tr>\n",
       "      <th>3</th>\n",
       "      <td>4898</td>\n",
       "      <td>0.000000</td>\n",
       "      <td>0.0</td>\n",
       "      <td>0.0</td>\n",
       "      <td>0.151454</td>\n",
       "      <td>0.0</td>\n",
       "      <td>0.000000</td>\n",
       "      <td>0.070333</td>\n",
       "      <td>0.0</td>\n",
       "      <td>0.0</td>\n",
       "      <td>...</td>\n",
       "      <td>0.0</td>\n",
       "      <td>0.0</td>\n",
       "      <td>0.000000</td>\n",
       "      <td>0.0</td>\n",
       "      <td>0.0</td>\n",
       "      <td>0.0</td>\n",
       "      <td>0.0</td>\n",
       "      <td>0.766836</td>\n",
       "      <td>0.0</td>\n",
       "      <td>0.000000</td>\n",
       "    </tr>\n",
       "    <tr>\n",
       "      <th>4</th>\n",
       "      <td>4899</td>\n",
       "      <td>0.000000</td>\n",
       "      <td>0.0</td>\n",
       "      <td>0.0</td>\n",
       "      <td>0.147638</td>\n",
       "      <td>0.0</td>\n",
       "      <td>0.000000</td>\n",
       "      <td>0.000000</td>\n",
       "      <td>0.0</td>\n",
       "      <td>0.0</td>\n",
       "      <td>...</td>\n",
       "      <td>0.0</td>\n",
       "      <td>0.0</td>\n",
       "      <td>0.332306</td>\n",
       "      <td>0.0</td>\n",
       "      <td>0.0</td>\n",
       "      <td>0.0</td>\n",
       "      <td>0.0</td>\n",
       "      <td>0.000000</td>\n",
       "      <td>0.0</td>\n",
       "      <td>0.000000</td>\n",
       "    </tr>\n",
       "  </tbody>\n",
       "</table>\n",
       "<p>5 rows × 33 columns</p>\n",
       "</div>"
      ],
      "text/plain": [
       "   doc_id   topic_0  topic_1  topic_2   topic_3  topic_4   topic_5   topic_6  \\\n",
       "0       6  0.000000      0.0      0.0  0.069153      0.0  0.210024  0.000000   \n",
       "1    4896  0.070927      0.0      0.0  0.266795      0.0  0.000000  0.000000   \n",
       "2    4897  0.000000      0.0      0.0  0.417366      0.0  0.000000  0.000000   \n",
       "3    4898  0.000000      0.0      0.0  0.151454      0.0  0.000000  0.070333   \n",
       "4    4899  0.000000      0.0      0.0  0.147638      0.0  0.000000  0.000000   \n",
       "\n",
       "   topic_7  topic_8  ...  topic_22  topic_23  topic_24  topic_25  topic_26  \\\n",
       "0      0.0      0.0  ...       0.0       0.0  0.352351       0.0       0.0   \n",
       "1      0.0      0.0  ...       0.0       0.0  0.000000       0.0       0.0   \n",
       "2      0.0      0.0  ...       0.0       0.0  0.000000       0.0       0.0   \n",
       "3      0.0      0.0  ...       0.0       0.0  0.000000       0.0       0.0   \n",
       "4      0.0      0.0  ...       0.0       0.0  0.332306       0.0       0.0   \n",
       "\n",
       "   topic_27  topic_28  topic_29  topic_30  topic_31  \n",
       "0       0.0       0.0  0.000000       0.0  0.034111  \n",
       "1       0.0       0.0  0.000000       0.0  0.000000  \n",
       "2       0.0       0.0  0.215862       0.0  0.048322  \n",
       "3       0.0       0.0  0.766836       0.0  0.000000  \n",
       "4       0.0       0.0  0.000000       0.0  0.000000  \n",
       "\n",
       "[5 rows x 33 columns]"
      ]
     },
     "execution_count": 52,
     "metadata": {},
     "output_type": "execute_result"
    }
   ],
   "source": [
    "topic_matrix = pd.DataFrame([get_lda_vector(text, topics_count) for text in news['title'].values])\n",
    "topic_matrix.columns = ['topic_{}'.format(i) for i in range(topics_count)]\n",
    "topic_matrix['doc_id'] = news['doc_id'].values\n",
    "topic_matrix = topic_matrix[['doc_id']+['topic_{}'.format(i) for i in range(topics_count)]]\n",
    "topic_matrix.head(5)"
   ]
  },
  {
   "cell_type": "markdown",
   "metadata": {},
   "source": [
    "### Следующий шаг - векторные представления пользователей"
   ]
  },
  {
   "cell_type": "code",
   "execution_count": 53,
   "metadata": {
    "scrolled": true
   },
   "outputs": [
    {
     "data": {
      "text/html": [
       "<div>\n",
       "<style scoped>\n",
       "    .dataframe tbody tr th:only-of-type {\n",
       "        vertical-align: middle;\n",
       "    }\n",
       "\n",
       "    .dataframe tbody tr th {\n",
       "        vertical-align: top;\n",
       "    }\n",
       "\n",
       "    .dataframe thead th {\n",
       "        text-align: right;\n",
       "    }\n",
       "</style>\n",
       "<table border=\"1\" class=\"dataframe\">\n",
       "  <thead>\n",
       "    <tr style=\"text-align: right;\">\n",
       "      <th></th>\n",
       "      <th>uid</th>\n",
       "      <th>articles</th>\n",
       "    </tr>\n",
       "  </thead>\n",
       "  <tbody>\n",
       "    <tr>\n",
       "      <th>0</th>\n",
       "      <td>u105138</td>\n",
       "      <td>[293672, 293328, 293001, 293622, 293126, 1852]</td>\n",
       "    </tr>\n",
       "    <tr>\n",
       "      <th>1</th>\n",
       "      <td>u108690</td>\n",
       "      <td>[3405, 1739, 2972, 1158, 1599, 322665]</td>\n",
       "    </tr>\n",
       "    <tr>\n",
       "      <th>2</th>\n",
       "      <td>u108339</td>\n",
       "      <td>[1845, 2009, 2356, 1424, 2939, 323389]</td>\n",
       "    </tr>\n",
       "  </tbody>\n",
       "</table>\n",
       "</div>"
      ],
      "text/plain": [
       "       uid                                        articles\n",
       "0  u105138  [293672, 293328, 293001, 293622, 293126, 1852]\n",
       "1  u108690          [3405, 1739, 2972, 1158, 1599, 322665]\n",
       "2  u108339          [1845, 2009, 2356, 1424, 2939, 323389]"
      ]
     },
     "execution_count": 53,
     "metadata": {},
     "output_type": "execute_result"
    }
   ],
   "source": [
    "users.head(3)"
   ]
  },
  {
   "cell_type": "code",
   "execution_count": 54,
   "metadata": {},
   "outputs": [],
   "source": [
    "doc_dict = dict(zip(topic_matrix['doc_id'].values, topic_matrix[['topic_{}'.format(i) for i in range(topics_count)]].values))"
   ]
  },
  {
   "cell_type": "code",
   "execution_count": 203,
   "metadata": {},
   "outputs": [
    {
     "data": {
      "text/plain": [
       "array([0.        , 0.        , 0.        , 0.06915307, 0.        ,\n",
       "       0.21002367, 0.        , 0.        , 0.        , 0.        ,\n",
       "       0.        , 0.        , 0.        , 0.        , 0.        ,\n",
       "       0.31330153, 0.01328091, 0.        , 0.        , 0.        ,\n",
       "       0.        , 0.        , 0.        , 0.        , 0.3523508 ,\n",
       "       0.        , 0.        , 0.        , 0.        , 0.        ,\n",
       "       0.        , 0.03411102])"
      ]
     },
     "execution_count": 203,
     "metadata": {},
     "output_type": "execute_result"
    }
   ],
   "source": [
    "doc_dict[6]"
   ]
  },
  {
   "cell_type": "code",
   "execution_count": 232,
   "metadata": {},
   "outputs": [],
   "source": [
    "# def get_user_embedding(user_articles_list):\n",
    "#     user_articles_list = eval(user_articles_list)\n",
    "#     user_vector = np.array([doc_dict[doc_id] for doc_id in user_articles_list])\n",
    "#     user_vector = np.mean(user_vector, 0)\n",
    "#     return user_vector\n",
    "\n",
    "# Данные взяты из итога работы скрипта для данного варианта функции\n",
    "# roc_auc (mean) = 0.9549628838596261\n",
    "# Best Threshold=0.249144, F-Score=0.700, Precision=0.674, Recall=0.727\n"
   ]
  },
  {
   "cell_type": "code",
   "execution_count": 187,
   "metadata": {},
   "outputs": [],
   "source": [
    "# РЕШЕНИЕ\n",
    "\n",
    "# def get_user_embedding(user_articles_list):\n",
    "#     user_articles_list = eval(user_articles_list)\n",
    "#     user_vector = np.array([doc_dict[doc_id] for doc_id in user_articles_list])\n",
    "#     user_vector = np.median(user_vector, 0)\n",
    "#     return user_vector\n",
    "\n",
    "# Данные взяты из итога работы скрипта для данного варианта функции\n",
    "# # roc_auc (median) = 0.9828503295315968\n",
    "# Best Threshold=0.259586, F-Score=0.825, Precision=0.788, Recall=0.866\n",
    "\n",
    "def get_user_embedding(user_articles_list):\n",
    "    user_articles_list = eval(user_articles_list)\n",
    "    user_vector = np.array([doc_dict[doc_id] for doc_id in user_articles_list])\n",
    "    user_vector = np.max(user_vector, 0)\n",
    "    return user_vector\n",
    "\n",
    "# Данные взяты из итога работы скрипта для данного варианта функции\n",
    "# roc_auc (max) = 0.9741895196961025\n",
    "# Best Threshold=0.263731, F-Score=0.785, Precision=0.727, Recall=0.854\n"
   ]
  },
  {
   "cell_type": "markdown",
   "metadata": {},
   "source": [
    "<table>\n",
    "    <tr>\n",
    "        <th></th>\n",
    "        <th>roc_auc</th>\n",
    "        <th>Precision</th>\n",
    "        <th>Recall</th>\n",
    "        <th>F-Score</th>\n",
    "    </tr>\n",
    "    <tr>\n",
    "        <td><b>mean</b></td>\n",
    "        <td>0.9549628838596261</td>\n",
    "        <td>0.674</td>\n",
    "        <td>0.727</td>\n",
    "        <td>0.700</td>\n",
    "    </tr>\n",
    "    <tr>\n",
    "        <td><b>median</b></td>\n",
    "        <td>0.9828503295315968</td>\n",
    "        <td>0.788</td>\n",
    "        <td>0.866</td>\n",
    "        <td>0.825</td>\n",
    "    </tr>\n",
    "    <tr>\n",
    "        <td><b>max</b></td>\n",
    "        <td>0.9741895196961025</td>\n",
    "        <td>0.727</td>\n",
    "        <td>0.854</td>\n",
    "        <td>0.785</td>\n",
    "    </tr>\n",
    "</table>"
   ]
  },
  {
   "cell_type": "markdown",
   "metadata": {},
   "source": [
    "Теперь получим эмбединги для всех пользователей и проверим их качество на конкретной downstream-задаче"
   ]
  },
  {
   "cell_type": "code",
   "execution_count": 219,
   "metadata": {},
   "outputs": [
    {
     "data": {
      "text/html": [
       "<div>\n",
       "<style scoped>\n",
       "    .dataframe tbody tr th:only-of-type {\n",
       "        vertical-align: middle;\n",
       "    }\n",
       "\n",
       "    .dataframe tbody tr th {\n",
       "        vertical-align: top;\n",
       "    }\n",
       "\n",
       "    .dataframe thead th {\n",
       "        text-align: right;\n",
       "    }\n",
       "</style>\n",
       "<table border=\"1\" class=\"dataframe\">\n",
       "  <thead>\n",
       "    <tr style=\"text-align: right;\">\n",
       "      <th></th>\n",
       "      <th>uid</th>\n",
       "      <th>articles</th>\n",
       "    </tr>\n",
       "  </thead>\n",
       "  <tbody>\n",
       "    <tr>\n",
       "      <th>0</th>\n",
       "      <td>u105138</td>\n",
       "      <td>[293672, 293328, 293001, 293622, 293126, 1852]</td>\n",
       "    </tr>\n",
       "    <tr>\n",
       "      <th>1</th>\n",
       "      <td>u108690</td>\n",
       "      <td>[3405, 1739, 2972, 1158, 1599, 322665]</td>\n",
       "    </tr>\n",
       "    <tr>\n",
       "      <th>2</th>\n",
       "      <td>u108339</td>\n",
       "      <td>[1845, 2009, 2356, 1424, 2939, 323389]</td>\n",
       "    </tr>\n",
       "    <tr>\n",
       "      <th>3</th>\n",
       "      <td>u101138</td>\n",
       "      <td>[5933, 6186, 5055, 6977, 5206, 488389]</td>\n",
       "    </tr>\n",
       "    <tr>\n",
       "      <th>4</th>\n",
       "      <td>u108248</td>\n",
       "      <td>[707, 1144, 2532, 2928, 3133, 324592]</td>\n",
       "    </tr>\n",
       "    <tr>\n",
       "      <th>...</th>\n",
       "      <td>...</td>\n",
       "      <td>...</td>\n",
       "    </tr>\n",
       "    <tr>\n",
       "      <th>7995</th>\n",
       "      <td>u107463</td>\n",
       "      <td>[323918, 323362, 323704, 323452, 324291, 251]</td>\n",
       "    </tr>\n",
       "    <tr>\n",
       "      <th>7996</th>\n",
       "      <td>u101241</td>\n",
       "      <td>[5532, 5860, 7755, 7140, 5182, 488337]</td>\n",
       "    </tr>\n",
       "    <tr>\n",
       "      <th>7997</th>\n",
       "      <td>u106486</td>\n",
       "      <td>[322811, 323898, 321858, 323345, 323491, 2193]</td>\n",
       "    </tr>\n",
       "    <tr>\n",
       "      <th>7998</th>\n",
       "      <td>u102220</td>\n",
       "      <td>[5436, 6092, 6891, 7045, 5320, 487379]</td>\n",
       "    </tr>\n",
       "    <tr>\n",
       "      <th>7999</th>\n",
       "      <td>u105118</td>\n",
       "      <td>[294096, 293759, 294178, 293544, 293921, 2909]</td>\n",
       "    </tr>\n",
       "  </tbody>\n",
       "</table>\n",
       "<p>8000 rows × 2 columns</p>\n",
       "</div>"
      ],
      "text/plain": [
       "          uid                                        articles\n",
       "0     u105138  [293672, 293328, 293001, 293622, 293126, 1852]\n",
       "1     u108690          [3405, 1739, 2972, 1158, 1599, 322665]\n",
       "2     u108339          [1845, 2009, 2356, 1424, 2939, 323389]\n",
       "3     u101138          [5933, 6186, 5055, 6977, 5206, 488389]\n",
       "4     u108248           [707, 1144, 2532, 2928, 3133, 324592]\n",
       "...       ...                                             ...\n",
       "7995  u107463   [323918, 323362, 323704, 323452, 324291, 251]\n",
       "7996  u101241          [5532, 5860, 7755, 7140, 5182, 488337]\n",
       "7997  u106486  [322811, 323898, 321858, 323345, 323491, 2193]\n",
       "7998  u102220          [5436, 6092, 6891, 7045, 5320, 487379]\n",
       "7999  u105118  [294096, 293759, 294178, 293544, 293921, 2909]\n",
       "\n",
       "[8000 rows x 2 columns]"
      ]
     },
     "execution_count": 219,
     "metadata": {},
     "output_type": "execute_result"
    }
   ],
   "source": [
    "users"
   ]
  },
  {
   "cell_type": "code",
   "execution_count": 225,
   "metadata": {},
   "outputs": [
    {
     "data": {
      "text/plain": [
       "array([0.15708904, 0.02565975, 0.27123988, 0.03619965, 0.        ,\n",
       "       0.19229947, 0.40085614, 0.        , 0.04763816, 0.13469069,\n",
       "       0.08027549, 0.        , 0.25062746, 0.06083854, 0.1519132 ,\n",
       "       0.28824228, 0.        , 0.        , 0.02206256, 0.        ,\n",
       "       0.05172786, 0.09690372, 0.        , 0.        , 0.15290676,\n",
       "       0.11557675, 0.21064155, 0.14634436, 0.        , 0.15751572,\n",
       "       0.        , 0.58704746])"
      ]
     },
     "execution_count": 225,
     "metadata": {},
     "output_type": "execute_result"
    }
   ],
   "source": [
    "x = \"[293672, 293328, 293001, 293622, 293126, 1852]\"\n",
    "get_user_embedding(x)"
   ]
  },
  {
   "cell_type": "code",
   "execution_count": 217,
   "metadata": {},
   "outputs": [],
   "source": [
    "user_embeddings = pd.DataFrame([i for i in users['articles'].apply(lambda x: get_user_embedding(x), 1)])\n",
    "# user_embeddings.columns = ['topic_{}'.format(i) for i in range(topics_count)]\n",
    "# user_embeddings['uid'] = users['uid'].values\n",
    "# user_embeddings = user_embeddings[['uid']+['topic_{}'.format(i) for i in range(topics_count)]]"
   ]
  },
  {
   "cell_type": "code",
   "execution_count": 218,
   "metadata": {},
   "outputs": [
    {
     "data": {
      "text/html": [
       "<div>\n",
       "<style scoped>\n",
       "    .dataframe tbody tr th:only-of-type {\n",
       "        vertical-align: middle;\n",
       "    }\n",
       "\n",
       "    .dataframe tbody tr th {\n",
       "        vertical-align: top;\n",
       "    }\n",
       "\n",
       "    .dataframe thead th {\n",
       "        text-align: right;\n",
       "    }\n",
       "</style>\n",
       "<table border=\"1\" class=\"dataframe\">\n",
       "  <thead>\n",
       "    <tr style=\"text-align: right;\">\n",
       "      <th></th>\n",
       "      <th>0</th>\n",
       "      <th>1</th>\n",
       "      <th>2</th>\n",
       "      <th>3</th>\n",
       "      <th>4</th>\n",
       "      <th>5</th>\n",
       "      <th>6</th>\n",
       "      <th>7</th>\n",
       "      <th>8</th>\n",
       "      <th>9</th>\n",
       "      <th>...</th>\n",
       "      <th>22</th>\n",
       "      <th>23</th>\n",
       "      <th>24</th>\n",
       "      <th>25</th>\n",
       "      <th>26</th>\n",
       "      <th>27</th>\n",
       "      <th>28</th>\n",
       "      <th>29</th>\n",
       "      <th>30</th>\n",
       "      <th>31</th>\n",
       "    </tr>\n",
       "  </thead>\n",
       "  <tbody>\n",
       "    <tr>\n",
       "      <th>0</th>\n",
       "      <td>0.157089</td>\n",
       "      <td>0.025660</td>\n",
       "      <td>0.271240</td>\n",
       "      <td>0.036200</td>\n",
       "      <td>0.000000</td>\n",
       "      <td>0.192299</td>\n",
       "      <td>0.400856</td>\n",
       "      <td>0.000000</td>\n",
       "      <td>0.047638</td>\n",
       "      <td>0.134691</td>\n",
       "      <td>...</td>\n",
       "      <td>0.000000</td>\n",
       "      <td>0.000000</td>\n",
       "      <td>0.152907</td>\n",
       "      <td>0.115577</td>\n",
       "      <td>0.210642</td>\n",
       "      <td>0.146344</td>\n",
       "      <td>0.000000</td>\n",
       "      <td>0.157516</td>\n",
       "      <td>0.000000</td>\n",
       "      <td>0.587047</td>\n",
       "    </tr>\n",
       "    <tr>\n",
       "      <th>1</th>\n",
       "      <td>0.116260</td>\n",
       "      <td>0.010139</td>\n",
       "      <td>0.182481</td>\n",
       "      <td>0.000000</td>\n",
       "      <td>0.000000</td>\n",
       "      <td>0.348923</td>\n",
       "      <td>0.169945</td>\n",
       "      <td>0.000000</td>\n",
       "      <td>0.000000</td>\n",
       "      <td>0.014783</td>\n",
       "      <td>...</td>\n",
       "      <td>0.059782</td>\n",
       "      <td>0.000000</td>\n",
       "      <td>0.137280</td>\n",
       "      <td>0.195024</td>\n",
       "      <td>0.062295</td>\n",
       "      <td>0.097960</td>\n",
       "      <td>0.017063</td>\n",
       "      <td>0.057982</td>\n",
       "      <td>0.017549</td>\n",
       "      <td>0.205015</td>\n",
       "    </tr>\n",
       "    <tr>\n",
       "      <th>2</th>\n",
       "      <td>0.077258</td>\n",
       "      <td>0.057350</td>\n",
       "      <td>0.102468</td>\n",
       "      <td>0.000000</td>\n",
       "      <td>0.000000</td>\n",
       "      <td>0.577630</td>\n",
       "      <td>0.089149</td>\n",
       "      <td>0.011441</td>\n",
       "      <td>0.019884</td>\n",
       "      <td>0.019876</td>\n",
       "      <td>...</td>\n",
       "      <td>0.016255</td>\n",
       "      <td>0.037481</td>\n",
       "      <td>0.186638</td>\n",
       "      <td>0.000000</td>\n",
       "      <td>0.050952</td>\n",
       "      <td>0.149714</td>\n",
       "      <td>0.065985</td>\n",
       "      <td>0.174750</td>\n",
       "      <td>0.065676</td>\n",
       "      <td>0.063829</td>\n",
       "    </tr>\n",
       "    <tr>\n",
       "      <th>3</th>\n",
       "      <td>0.017914</td>\n",
       "      <td>0.060866</td>\n",
       "      <td>0.012171</td>\n",
       "      <td>0.224312</td>\n",
       "      <td>0.000000</td>\n",
       "      <td>0.167252</td>\n",
       "      <td>0.140992</td>\n",
       "      <td>0.048882</td>\n",
       "      <td>0.000000</td>\n",
       "      <td>0.000000</td>\n",
       "      <td>...</td>\n",
       "      <td>0.000000</td>\n",
       "      <td>0.000000</td>\n",
       "      <td>0.090895</td>\n",
       "      <td>0.473576</td>\n",
       "      <td>0.000000</td>\n",
       "      <td>0.074003</td>\n",
       "      <td>0.000000</td>\n",
       "      <td>0.192942</td>\n",
       "      <td>0.143255</td>\n",
       "      <td>0.929302</td>\n",
       "    </tr>\n",
       "    <tr>\n",
       "      <th>4</th>\n",
       "      <td>0.059111</td>\n",
       "      <td>0.041835</td>\n",
       "      <td>0.194616</td>\n",
       "      <td>0.011955</td>\n",
       "      <td>0.020679</td>\n",
       "      <td>0.273659</td>\n",
       "      <td>0.217931</td>\n",
       "      <td>0.016849</td>\n",
       "      <td>0.000000</td>\n",
       "      <td>0.000000</td>\n",
       "      <td>...</td>\n",
       "      <td>0.033849</td>\n",
       "      <td>0.000000</td>\n",
       "      <td>0.385817</td>\n",
       "      <td>0.104169</td>\n",
       "      <td>0.114583</td>\n",
       "      <td>0.142396</td>\n",
       "      <td>0.072432</td>\n",
       "      <td>0.215478</td>\n",
       "      <td>0.163592</td>\n",
       "      <td>0.206407</td>\n",
       "    </tr>\n",
       "    <tr>\n",
       "      <th>...</th>\n",
       "      <td>...</td>\n",
       "      <td>...</td>\n",
       "      <td>...</td>\n",
       "      <td>...</td>\n",
       "      <td>...</td>\n",
       "      <td>...</td>\n",
       "      <td>...</td>\n",
       "      <td>...</td>\n",
       "      <td>...</td>\n",
       "      <td>...</td>\n",
       "      <td>...</td>\n",
       "      <td>...</td>\n",
       "      <td>...</td>\n",
       "      <td>...</td>\n",
       "      <td>...</td>\n",
       "      <td>...</td>\n",
       "      <td>...</td>\n",
       "      <td>...</td>\n",
       "      <td>...</td>\n",
       "      <td>...</td>\n",
       "      <td>...</td>\n",
       "    </tr>\n",
       "    <tr>\n",
       "      <th>7995</th>\n",
       "      <td>0.111686</td>\n",
       "      <td>0.034228</td>\n",
       "      <td>0.344471</td>\n",
       "      <td>0.030620</td>\n",
       "      <td>0.093225</td>\n",
       "      <td>0.453246</td>\n",
       "      <td>0.027913</td>\n",
       "      <td>0.000000</td>\n",
       "      <td>0.000000</td>\n",
       "      <td>0.060995</td>\n",
       "      <td>...</td>\n",
       "      <td>0.013787</td>\n",
       "      <td>0.055837</td>\n",
       "      <td>0.129039</td>\n",
       "      <td>0.026824</td>\n",
       "      <td>0.000000</td>\n",
       "      <td>0.270280</td>\n",
       "      <td>0.043744</td>\n",
       "      <td>0.216970</td>\n",
       "      <td>0.000000</td>\n",
       "      <td>0.042889</td>\n",
       "    </tr>\n",
       "    <tr>\n",
       "      <th>7996</th>\n",
       "      <td>0.021862</td>\n",
       "      <td>0.000000</td>\n",
       "      <td>0.000000</td>\n",
       "      <td>0.563205</td>\n",
       "      <td>0.013207</td>\n",
       "      <td>0.201680</td>\n",
       "      <td>0.039839</td>\n",
       "      <td>0.000000</td>\n",
       "      <td>0.099637</td>\n",
       "      <td>0.000000</td>\n",
       "      <td>...</td>\n",
       "      <td>0.042129</td>\n",
       "      <td>0.000000</td>\n",
       "      <td>0.279495</td>\n",
       "      <td>0.181337</td>\n",
       "      <td>0.344965</td>\n",
       "      <td>0.000000</td>\n",
       "      <td>0.108831</td>\n",
       "      <td>0.157188</td>\n",
       "      <td>0.000000</td>\n",
       "      <td>0.085393</td>\n",
       "    </tr>\n",
       "    <tr>\n",
       "      <th>7997</th>\n",
       "      <td>0.176999</td>\n",
       "      <td>0.021849</td>\n",
       "      <td>0.130314</td>\n",
       "      <td>0.000000</td>\n",
       "      <td>0.000000</td>\n",
       "      <td>0.440517</td>\n",
       "      <td>0.131227</td>\n",
       "      <td>0.000000</td>\n",
       "      <td>0.000000</td>\n",
       "      <td>0.017791</td>\n",
       "      <td>...</td>\n",
       "      <td>0.015445</td>\n",
       "      <td>0.000000</td>\n",
       "      <td>0.217206</td>\n",
       "      <td>0.097840</td>\n",
       "      <td>0.128612</td>\n",
       "      <td>0.136248</td>\n",
       "      <td>0.029626</td>\n",
       "      <td>0.022567</td>\n",
       "      <td>0.062408</td>\n",
       "      <td>0.090893</td>\n",
       "    </tr>\n",
       "    <tr>\n",
       "      <th>7998</th>\n",
       "      <td>0.000000</td>\n",
       "      <td>0.000000</td>\n",
       "      <td>0.412624</td>\n",
       "      <td>0.369356</td>\n",
       "      <td>0.000000</td>\n",
       "      <td>0.093631</td>\n",
       "      <td>0.107884</td>\n",
       "      <td>0.000000</td>\n",
       "      <td>0.000000</td>\n",
       "      <td>0.000000</td>\n",
       "      <td>...</td>\n",
       "      <td>0.360091</td>\n",
       "      <td>0.030897</td>\n",
       "      <td>0.044144</td>\n",
       "      <td>0.288443</td>\n",
       "      <td>0.184964</td>\n",
       "      <td>0.115083</td>\n",
       "      <td>0.081079</td>\n",
       "      <td>0.298973</td>\n",
       "      <td>0.058884</td>\n",
       "      <td>0.812252</td>\n",
       "    </tr>\n",
       "    <tr>\n",
       "      <th>7999</th>\n",
       "      <td>0.044256</td>\n",
       "      <td>0.051741</td>\n",
       "      <td>0.187992</td>\n",
       "      <td>0.019293</td>\n",
       "      <td>0.000000</td>\n",
       "      <td>0.176926</td>\n",
       "      <td>0.130801</td>\n",
       "      <td>0.023731</td>\n",
       "      <td>0.044546</td>\n",
       "      <td>0.000000</td>\n",
       "      <td>...</td>\n",
       "      <td>0.118946</td>\n",
       "      <td>0.057578</td>\n",
       "      <td>0.053716</td>\n",
       "      <td>0.143290</td>\n",
       "      <td>0.000000</td>\n",
       "      <td>0.273703</td>\n",
       "      <td>0.020941</td>\n",
       "      <td>0.348545</td>\n",
       "      <td>0.000000</td>\n",
       "      <td>0.452898</td>\n",
       "    </tr>\n",
       "  </tbody>\n",
       "</table>\n",
       "<p>8000 rows × 32 columns</p>\n",
       "</div>"
      ],
      "text/plain": [
       "            0         1         2         3         4         5         6   \\\n",
       "0     0.157089  0.025660  0.271240  0.036200  0.000000  0.192299  0.400856   \n",
       "1     0.116260  0.010139  0.182481  0.000000  0.000000  0.348923  0.169945   \n",
       "2     0.077258  0.057350  0.102468  0.000000  0.000000  0.577630  0.089149   \n",
       "3     0.017914  0.060866  0.012171  0.224312  0.000000  0.167252  0.140992   \n",
       "4     0.059111  0.041835  0.194616  0.011955  0.020679  0.273659  0.217931   \n",
       "...        ...       ...       ...       ...       ...       ...       ...   \n",
       "7995  0.111686  0.034228  0.344471  0.030620  0.093225  0.453246  0.027913   \n",
       "7996  0.021862  0.000000  0.000000  0.563205  0.013207  0.201680  0.039839   \n",
       "7997  0.176999  0.021849  0.130314  0.000000  0.000000  0.440517  0.131227   \n",
       "7998  0.000000  0.000000  0.412624  0.369356  0.000000  0.093631  0.107884   \n",
       "7999  0.044256  0.051741  0.187992  0.019293  0.000000  0.176926  0.130801   \n",
       "\n",
       "            7         8         9   ...        22        23        24  \\\n",
       "0     0.000000  0.047638  0.134691  ...  0.000000  0.000000  0.152907   \n",
       "1     0.000000  0.000000  0.014783  ...  0.059782  0.000000  0.137280   \n",
       "2     0.011441  0.019884  0.019876  ...  0.016255  0.037481  0.186638   \n",
       "3     0.048882  0.000000  0.000000  ...  0.000000  0.000000  0.090895   \n",
       "4     0.016849  0.000000  0.000000  ...  0.033849  0.000000  0.385817   \n",
       "...        ...       ...       ...  ...       ...       ...       ...   \n",
       "7995  0.000000  0.000000  0.060995  ...  0.013787  0.055837  0.129039   \n",
       "7996  0.000000  0.099637  0.000000  ...  0.042129  0.000000  0.279495   \n",
       "7997  0.000000  0.000000  0.017791  ...  0.015445  0.000000  0.217206   \n",
       "7998  0.000000  0.000000  0.000000  ...  0.360091  0.030897  0.044144   \n",
       "7999  0.023731  0.044546  0.000000  ...  0.118946  0.057578  0.053716   \n",
       "\n",
       "            25        26        27        28        29        30        31  \n",
       "0     0.115577  0.210642  0.146344  0.000000  0.157516  0.000000  0.587047  \n",
       "1     0.195024  0.062295  0.097960  0.017063  0.057982  0.017549  0.205015  \n",
       "2     0.000000  0.050952  0.149714  0.065985  0.174750  0.065676  0.063829  \n",
       "3     0.473576  0.000000  0.074003  0.000000  0.192942  0.143255  0.929302  \n",
       "4     0.104169  0.114583  0.142396  0.072432  0.215478  0.163592  0.206407  \n",
       "...        ...       ...       ...       ...       ...       ...       ...  \n",
       "7995  0.026824  0.000000  0.270280  0.043744  0.216970  0.000000  0.042889  \n",
       "7996  0.181337  0.344965  0.000000  0.108831  0.157188  0.000000  0.085393  \n",
       "7997  0.097840  0.128612  0.136248  0.029626  0.022567  0.062408  0.090893  \n",
       "7998  0.288443  0.184964  0.115083  0.081079  0.298973  0.058884  0.812252  \n",
       "7999  0.143290  0.000000  0.273703  0.020941  0.348545  0.000000  0.452898  \n",
       "\n",
       "[8000 rows x 32 columns]"
      ]
     },
     "execution_count": 218,
     "metadata": {},
     "output_type": "execute_result"
    }
   ],
   "source": [
    "user_embeddings"
   ]
  },
  {
   "cell_type": "markdown",
   "metadata": {},
   "source": [
    "Датасет готов - можно попробовать обучить модель. Загрузим нашу разметку"
   ]
  },
  {
   "cell_type": "code",
   "execution_count": 191,
   "metadata": {},
   "outputs": [
    {
     "data": {
      "text/html": [
       "<div>\n",
       "<style scoped>\n",
       "    .dataframe tbody tr th:only-of-type {\n",
       "        vertical-align: middle;\n",
       "    }\n",
       "\n",
       "    .dataframe tbody tr th {\n",
       "        vertical-align: top;\n",
       "    }\n",
       "\n",
       "    .dataframe thead th {\n",
       "        text-align: right;\n",
       "    }\n",
       "</style>\n",
       "<table border=\"1\" class=\"dataframe\">\n",
       "  <thead>\n",
       "    <tr style=\"text-align: right;\">\n",
       "      <th></th>\n",
       "      <th>uid</th>\n",
       "      <th>churn</th>\n",
       "    </tr>\n",
       "  </thead>\n",
       "  <tbody>\n",
       "    <tr>\n",
       "      <th>0</th>\n",
       "      <td>u107120</td>\n",
       "      <td>0</td>\n",
       "    </tr>\n",
       "    <tr>\n",
       "      <th>1</th>\n",
       "      <td>u102277</td>\n",
       "      <td>0</td>\n",
       "    </tr>\n",
       "    <tr>\n",
       "      <th>2</th>\n",
       "      <td>u102444</td>\n",
       "      <td>0</td>\n",
       "    </tr>\n",
       "    <tr>\n",
       "      <th>3</th>\n",
       "      <td>u103439</td>\n",
       "      <td>0</td>\n",
       "    </tr>\n",
       "    <tr>\n",
       "      <th>4</th>\n",
       "      <td>u104300</td>\n",
       "      <td>0</td>\n",
       "    </tr>\n",
       "  </tbody>\n",
       "</table>\n",
       "</div>"
      ],
      "text/plain": [
       "       uid  churn\n",
       "0  u107120      0\n",
       "1  u102277      0\n",
       "2  u102444      0\n",
       "3  u103439      0\n",
       "4  u104300      0"
      ]
     },
     "execution_count": 191,
     "metadata": {},
     "output_type": "execute_result"
    }
   ],
   "source": [
    "target = pd.read_csv(\"users_churn.csv\")\n",
    "target.head(5)"
   ]
  },
  {
   "cell_type": "code",
   "execution_count": 192,
   "metadata": {},
   "outputs": [
    {
     "data": {
      "text/html": [
       "<div>\n",
       "<style scoped>\n",
       "    .dataframe tbody tr th:only-of-type {\n",
       "        vertical-align: middle;\n",
       "    }\n",
       "\n",
       "    .dataframe tbody tr th {\n",
       "        vertical-align: top;\n",
       "    }\n",
       "\n",
       "    .dataframe thead th {\n",
       "        text-align: right;\n",
       "    }\n",
       "</style>\n",
       "<table border=\"1\" class=\"dataframe\">\n",
       "  <thead>\n",
       "    <tr style=\"text-align: right;\">\n",
       "      <th></th>\n",
       "      <th>uid</th>\n",
       "      <th>topic_0</th>\n",
       "      <th>topic_1</th>\n",
       "      <th>topic_2</th>\n",
       "      <th>topic_3</th>\n",
       "      <th>topic_4</th>\n",
       "      <th>topic_5</th>\n",
       "      <th>topic_6</th>\n",
       "      <th>topic_7</th>\n",
       "      <th>topic_8</th>\n",
       "      <th>...</th>\n",
       "      <th>topic_23</th>\n",
       "      <th>topic_24</th>\n",
       "      <th>topic_25</th>\n",
       "      <th>topic_26</th>\n",
       "      <th>topic_27</th>\n",
       "      <th>topic_28</th>\n",
       "      <th>topic_29</th>\n",
       "      <th>topic_30</th>\n",
       "      <th>topic_31</th>\n",
       "      <th>churn</th>\n",
       "    </tr>\n",
       "  </thead>\n",
       "  <tbody>\n",
       "    <tr>\n",
       "      <th>0</th>\n",
       "      <td>u105138</td>\n",
       "      <td>0.157089</td>\n",
       "      <td>0.025660</td>\n",
       "      <td>0.271240</td>\n",
       "      <td>0.0362</td>\n",
       "      <td>0.0</td>\n",
       "      <td>0.192299</td>\n",
       "      <td>0.400856</td>\n",
       "      <td>0.000000</td>\n",
       "      <td>0.047638</td>\n",
       "      <td>...</td>\n",
       "      <td>0.000000</td>\n",
       "      <td>0.152907</td>\n",
       "      <td>0.115577</td>\n",
       "      <td>0.210642</td>\n",
       "      <td>0.146344</td>\n",
       "      <td>0.000000</td>\n",
       "      <td>0.157516</td>\n",
       "      <td>0.000000</td>\n",
       "      <td>0.587047</td>\n",
       "      <td>0</td>\n",
       "    </tr>\n",
       "    <tr>\n",
       "      <th>1</th>\n",
       "      <td>u108690</td>\n",
       "      <td>0.116260</td>\n",
       "      <td>0.010139</td>\n",
       "      <td>0.182481</td>\n",
       "      <td>0.0000</td>\n",
       "      <td>0.0</td>\n",
       "      <td>0.348923</td>\n",
       "      <td>0.169945</td>\n",
       "      <td>0.000000</td>\n",
       "      <td>0.000000</td>\n",
       "      <td>...</td>\n",
       "      <td>0.000000</td>\n",
       "      <td>0.137280</td>\n",
       "      <td>0.195024</td>\n",
       "      <td>0.062295</td>\n",
       "      <td>0.097960</td>\n",
       "      <td>0.017063</td>\n",
       "      <td>0.057982</td>\n",
       "      <td>0.017549</td>\n",
       "      <td>0.205015</td>\n",
       "      <td>1</td>\n",
       "    </tr>\n",
       "    <tr>\n",
       "      <th>2</th>\n",
       "      <td>u108339</td>\n",
       "      <td>0.077258</td>\n",
       "      <td>0.057350</td>\n",
       "      <td>0.102468</td>\n",
       "      <td>0.0000</td>\n",
       "      <td>0.0</td>\n",
       "      <td>0.577630</td>\n",
       "      <td>0.089149</td>\n",
       "      <td>0.011441</td>\n",
       "      <td>0.019884</td>\n",
       "      <td>...</td>\n",
       "      <td>0.037481</td>\n",
       "      <td>0.186638</td>\n",
       "      <td>0.000000</td>\n",
       "      <td>0.050952</td>\n",
       "      <td>0.149714</td>\n",
       "      <td>0.065985</td>\n",
       "      <td>0.174750</td>\n",
       "      <td>0.065676</td>\n",
       "      <td>0.063829</td>\n",
       "      <td>1</td>\n",
       "    </tr>\n",
       "  </tbody>\n",
       "</table>\n",
       "<p>3 rows × 34 columns</p>\n",
       "</div>"
      ],
      "text/plain": [
       "       uid   topic_0   topic_1   topic_2  topic_3  topic_4   topic_5  \\\n",
       "0  u105138  0.157089  0.025660  0.271240   0.0362      0.0  0.192299   \n",
       "1  u108690  0.116260  0.010139  0.182481   0.0000      0.0  0.348923   \n",
       "2  u108339  0.077258  0.057350  0.102468   0.0000      0.0  0.577630   \n",
       "\n",
       "    topic_6   topic_7   topic_8  ...  topic_23  topic_24  topic_25  topic_26  \\\n",
       "0  0.400856  0.000000  0.047638  ...  0.000000  0.152907  0.115577  0.210642   \n",
       "1  0.169945  0.000000  0.000000  ...  0.000000  0.137280  0.195024  0.062295   \n",
       "2  0.089149  0.011441  0.019884  ...  0.037481  0.186638  0.000000  0.050952   \n",
       "\n",
       "   topic_27  topic_28  topic_29  topic_30  topic_31  churn  \n",
       "0  0.146344  0.000000  0.157516  0.000000  0.587047      0  \n",
       "1  0.097960  0.017063  0.057982  0.017549  0.205015      1  \n",
       "2  0.149714  0.065985  0.174750  0.065676  0.063829      1  \n",
       "\n",
       "[3 rows x 34 columns]"
      ]
     },
     "execution_count": 192,
     "metadata": {},
     "output_type": "execute_result"
    }
   ],
   "source": [
    "X = pd.merge(user_embeddings, target, 'left')\n",
    "X.head(3)"
   ]
  },
  {
   "cell_type": "code",
   "execution_count": 193,
   "metadata": {},
   "outputs": [],
   "source": [
    "from sklearn.linear_model import LogisticRegression\n",
    "from sklearn.model_selection import train_test_split\n",
    "#import itertools\n",
    "\n",
    "import matplotlib.pyplot as plt\n",
    "\n",
    "%matplotlib inline"
   ]
  },
  {
   "cell_type": "code",
   "execution_count": 194,
   "metadata": {},
   "outputs": [],
   "source": [
    "#разделим данные на train/test\n",
    "X_train, X_test, y_train, y_test = train_test_split(X[['topic_{}'.format(i) for i in range(topics_count)]], \n",
    "                                                    X['churn'], random_state=42)"
   ]
  },
  {
   "cell_type": "code",
   "execution_count": 195,
   "metadata": {},
   "outputs": [
    {
     "data": {
      "text/plain": [
       "LogisticRegression()"
      ]
     },
     "execution_count": 195,
     "metadata": {},
     "output_type": "execute_result"
    }
   ],
   "source": [
    "logreg = LogisticRegression()\n",
    "#обучим \n",
    "logreg.fit(X_train, y_train)"
   ]
  },
  {
   "cell_type": "code",
   "execution_count": 196,
   "metadata": {},
   "outputs": [
    {
     "data": {
      "text/plain": [
       "array([4.82333205e-04, 6.34602423e-02, 1.81119876e-02, 4.09255247e-02,\n",
       "       8.91041050e-02, 4.21075275e-01, 3.65095116e-03, 4.28562832e-01,\n",
       "       7.32462540e-01, 1.27796201e-01])"
      ]
     },
     "execution_count": 196,
     "metadata": {},
     "output_type": "execute_result"
    }
   ],
   "source": [
    "#наши прогнозы для тестовой выборки\n",
    "preds = logreg.predict_proba(X_test)[:, 1]\n",
    "preds[:10]"
   ]
  },
  {
   "cell_type": "code",
   "execution_count": 197,
   "metadata": {},
   "outputs": [],
   "source": [
    "from sklearn.metrics import f1_score, roc_auc_score, precision_score, classification_report, precision_recall_curve, confusion_matrix"
   ]
  },
  {
   "cell_type": "markdown",
   "metadata": {},
   "source": [
    "### Рассчитаем Precision, Recall, F_score"
   ]
  },
  {
   "cell_type": "code",
   "execution_count": 198,
   "metadata": {},
   "outputs": [],
   "source": [
    "import itertools"
   ]
  },
  {
   "cell_type": "code",
   "execution_count": 199,
   "metadata": {
    "scrolled": true
   },
   "outputs": [
    {
     "name": "stdout",
     "output_type": "stream",
     "text": [
      "Best Threshold=0.263731, F-Score=0.785, Precision=0.727, Recall=0.854\n"
     ]
    }
   ],
   "source": [
    "precision, recall, thresholds = precision_recall_curve(y_test, preds)\n",
    "fscore = (2 * precision * recall) / (precision + recall)\n",
    "# locate the index of the largest f score\n",
    "fscore = np.nan_to_num(fscore)\n",
    "ix = np.argmax(fscore)\n",
    "print('Best Threshold=%f, F-Score=%.3f, Precision=%.3f, Recall=%.3f' % (thresholds[ix], \n",
    "                                                                        fscore[ix],\n",
    "                                                                        precision[ix],\n",
    "                                                                        recall[ix]))"
   ]
  },
  {
   "cell_type": "code",
   "execution_count": 200,
   "metadata": {},
   "outputs": [],
   "source": [
    "def plot_confusion_matrix(cm, classes,\n",
    "                          normalize=False,\n",
    "                          title='Confusion matrix',\n",
    "                          cmap=plt.cm.Blues):\n",
    "    \"\"\"\n",
    "    This function prints and plots the confusion matrix.\n",
    "    Normalization can be applied by setting `normalize=True`.\n",
    "    \"\"\"\n",
    "    plt.imshow(cm, interpolation='nearest', cmap=cmap)\n",
    "    plt.title(title)\n",
    "    plt.colorbar()\n",
    "    tick_marks = np.arange(len(classes))\n",
    "    plt.xticks(tick_marks, classes, rotation=45)\n",
    "    plt.yticks(tick_marks, classes)\n",
    "\n",
    "    if normalize:\n",
    "        cm = cm.astype('float') / cm.sum(axis=1)[:, np.newaxis]\n",
    "        print(\"Normalized confusion matrix\")\n",
    "    else:\n",
    "        print('Confusion matrix, without normalization')\n",
    "\n",
    "    print(cm)\n",
    "\n",
    "    thresh = cm.max() / 2.\n",
    "    for i, j in itertools.product(range(cm.shape[0]), range(cm.shape[1])):\n",
    "        plt.text(j, i, cm[i, j],\n",
    "                 horizontalalignment=\"center\",\n",
    "                 color=\"white\" if cm[i, j] > thresh else \"black\")\n",
    "\n",
    "    plt.tight_layout()\n",
    "    plt.ylabel('True label')\n",
    "    plt.xlabel('Predicted label')"
   ]
  },
  {
   "cell_type": "code",
   "execution_count": 201,
   "metadata": {},
   "outputs": [
    {
     "name": "stdout",
     "output_type": "stream",
     "text": [
      "Confusion matrix, without normalization\n",
      "[[1666   81]\n",
      " [  38  215]]\n"
     ]
    },
    {
     "data": {
      "image/png": "[encoded data removed]",
      "text/plain": [
       "<Figure size 720x576 with 2 Axes>"
      ]
     },
     "metadata": {
      "needs_background": "light"
     },
     "output_type": "display_data"
    }
   ],
   "source": [
    "#мы уже нашли ранее \"оптимальный\" порог, когда максимизировали f_score\n",
    "font = {'size' : 15}\n",
    "\n",
    "plt.rc('font', **font)\n",
    "\n",
    "cnf_matrix = confusion_matrix(y_test, preds>thresholds[ix])\n",
    "plt.figure(figsize=(10, 8))\n",
    "plot_confusion_matrix(cnf_matrix, classes=['Non-Churn', 'churn'],\n",
    "                      title='Confusion matrix')\n",
    "plt.savefig(\"conf_matrix.png\")\n",
    "plt.show()"
   ]
  },
  {
   "cell_type": "code",
   "execution_count": 202,
   "metadata": {
    "scrolled": true
   },
   "outputs": [
    {
     "data": {
      "text/plain": [
       "0.9741895196961025"
      ]
     },
     "execution_count": 202,
     "metadata": {},
     "output_type": "execute_result"
    }
   ],
   "source": [
    "roc_auc_score(y_test, preds)"
   ]
  }
 ],
 "metadata": {
  "kernelspec": {
   "display_name": "Python 3",
   "language": "python",
   "name": "python3"
  },
  "language_info": {
   "codemirror_mode": {
    "name": "ipython",
    "version": 3
   },
   "file_extension": ".py",
   "mimetype": "text/x-python",
   "name": "python",
   "nbconvert_exporter": "python",
   "pygments_lexer": "ipython3",
   "version": "3.8.8"
  }
 },
 "nbformat": 4,
 "nbformat_minor": 2
}
