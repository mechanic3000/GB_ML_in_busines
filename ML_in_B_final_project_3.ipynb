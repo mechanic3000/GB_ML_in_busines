{
 "cells": [
  {
   "cell_type": "code",
   "execution_count": 180,
   "metadata": {},
   "outputs": [],
   "source": [
    "import pandas as pd\n",
    "from sklearn.metrics import roc_auc_score,roc_curve\n",
    "from urllib import request, parse\n",
    "\n",
    "X_test = pd.read_csv(\"X_test.csv\")\n",
    "y_test = pd.read_csv(\"y_test.csv\")"
   ]
  },
  {
   "cell_type": "code",
   "execution_count": 181,
   "metadata": {},
   "outputs": [
    {
     "data": {
      "text/html": [
       "<div>\n",
       "<style scoped>\n",
       "    .dataframe tbody tr th:only-of-type {\n",
       "        vertical-align: middle;\n",
       "    }\n",
       "\n",
       "    .dataframe tbody tr th {\n",
       "        vertical-align: top;\n",
       "    }\n",
       "\n",
       "    .dataframe thead th {\n",
       "        text-align: right;\n",
       "    }\n",
       "</style>\n",
       "<table border=\"1\" class=\"dataframe\">\n",
       "  <thead>\n",
       "    <tr style=\"text-align: right;\">\n",
       "      <th></th>\n",
       "      <th>Age</th>\n",
       "      <th>Sex</th>\n",
       "      <th>ChestPainType</th>\n",
       "      <th>RestingBP</th>\n",
       "      <th>Cholesterol</th>\n",
       "      <th>FastingBS</th>\n",
       "      <th>RestingECG</th>\n",
       "      <th>MaxHR</th>\n",
       "      <th>ExerciseAngina</th>\n",
       "      <th>Oldpeak</th>\n",
       "      <th>ST_Slope</th>\n",
       "    </tr>\n",
       "  </thead>\n",
       "  <tbody>\n",
       "    <tr>\n",
       "      <th>0</th>\n",
       "      <td>63</td>\n",
       "      <td>F</td>\n",
       "      <td>ATA</td>\n",
       "      <td>140</td>\n",
       "      <td>195</td>\n",
       "      <td>0</td>\n",
       "      <td>Normal</td>\n",
       "      <td>179</td>\n",
       "      <td>N</td>\n",
       "      <td>0.0</td>\n",
       "      <td>Up</td>\n",
       "    </tr>\n",
       "    <tr>\n",
       "      <th>1</th>\n",
       "      <td>53</td>\n",
       "      <td>M</td>\n",
       "      <td>NAP</td>\n",
       "      <td>145</td>\n",
       "      <td>518</td>\n",
       "      <td>0</td>\n",
       "      <td>Normal</td>\n",
       "      <td>130</td>\n",
       "      <td>N</td>\n",
       "      <td>0.0</td>\n",
       "      <td>Flat</td>\n",
       "    </tr>\n",
       "    <tr>\n",
       "      <th>2</th>\n",
       "      <td>65</td>\n",
       "      <td>M</td>\n",
       "      <td>ASY</td>\n",
       "      <td>160</td>\n",
       "      <td>0</td>\n",
       "      <td>1</td>\n",
       "      <td>ST</td>\n",
       "      <td>122</td>\n",
       "      <td>N</td>\n",
       "      <td>1.2</td>\n",
       "      <td>Flat</td>\n",
       "    </tr>\n",
       "  </tbody>\n",
       "</table>\n",
       "</div>"
      ],
      "text/plain": [
       "   Age Sex ChestPainType  RestingBP  Cholesterol  FastingBS RestingECG  MaxHR  \\\n",
       "0   63   F           ATA        140          195          0     Normal    179   \n",
       "1   53   M           NAP        145          518          0     Normal    130   \n",
       "2   65   M           ASY        160            0          1         ST    122   \n",
       "\n",
       "  ExerciseAngina  Oldpeak ST_Slope  \n",
       "0              N      0.0       Up  \n",
       "1              N      0.0     Flat  \n",
       "2              N      1.2     Flat  "
      ]
     },
     "execution_count": 181,
     "metadata": {},
     "output_type": "execute_result"
    }
   ],
   "source": [
    "X_test.head(3)"
   ]
  },
  {
   "cell_type": "code",
   "execution_count": null,
   "metadata": {},
   "outputs": [],
   "source": []
  },
  {
   "cell_type": "code",
   "execution_count": 193,
   "metadata": {},
   "outputs": [],
   "source": [
    "import urllib.request\n",
    "import json      \n",
    "\n",
    "\n",
    "def get_prediction(x):\n",
    "    Age, Sex, ChestPainType, RestingBP, Cholesterol, FastingBS, \\\n",
    "    RestingECG, MaxHR, ExerciseAngina, Oldpeak, ST_Slope = x\n",
    "    \n",
    "    body = {'Age': Age, \n",
    "            'Sex': Sex,\n",
    "            'ChestPainType': ChestPainType,\n",
    "            'RestingBP': RestingBP, \n",
    "            'Cholesterol': Cholesterol,\n",
    "            'FastingBS': FastingBS,\n",
    "            'RestingECG': RestingECG,\n",
    "            'MaxHR': MaxHR,\n",
    "            'ExerciseAngina': ExerciseAngina,\n",
    "            'Oldpeak': Oldpeak,\n",
    "            'ST_Slope': ST_Slope\n",
    "            } \n",
    "\n",
    "    myurl = \"http://10.211.55.12:8180/predict\"\n",
    "    req = urllib.request.Request(myurl)\n",
    "    req.add_header('Content-Type', 'application/json; charset=utf-8')\n",
    "    jsondata = json.dumps(body)\n",
    "    jsondataasbytes = jsondata.encode('utf-8')   # needs to be bytes\n",
    "    req.add_header('Content-Length', len(jsondataasbytes))\n",
    "    #print (jsondataasbytes)\n",
    "    response = urllib.request.urlopen(req, jsondataasbytes)\n",
    "    return json.loads(response.read())['predictions']"
   ]
  },
  {
   "cell_type": "code",
   "execution_count": 203,
   "metadata": {
    "scrolled": true
   },
   "outputs": [
    {
     "name": "stdout",
     "output_type": "stream",
     "text": [
      "CPU times: user 321 ms, sys: 133 ms, total: 454 ms\n",
      "Wall time: 12.7 s\n"
     ]
    }
   ],
   "source": [
    "%%time\n",
    "predictions = X_test.iloc[:500].apply(lambda x: get_prediction(x), 1)"
   ]
  },
  {
   "cell_type": "code",
   "execution_count": 201,
   "metadata": {},
   "outputs": [
    {
     "data": {
      "text/plain": [
       "0      0.015836\n",
       "1      0.948770\n",
       "2      0.995905\n",
       "3      0.998171\n",
       "4      0.075161\n",
       "         ...   \n",
       "271    0.987977\n",
       "272    0.001416\n",
       "273    0.985974\n",
       "274    0.995288\n",
       "275    0.295087\n",
       "Length: 276, dtype: float64"
      ]
     },
     "execution_count": 201,
     "metadata": {},
     "output_type": "execute_result"
    }
   ],
   "source": [
    "predictions"
   ]
  },
  {
   "cell_type": "code",
   "execution_count": 189,
   "metadata": {},
   "outputs": [
    {
     "name": "stdout",
     "output_type": "stream",
     "text": [
      "anyio==3.6.2\r\n",
      "appnope==0.1.3\r\n",
      "argon2-cffi==21.3.0\r\n",
      "argon2-cffi-bindings==21.2.0\r\n",
      "asttokens==2.1.0\r\n",
      "attrs==22.1.0\r\n",
      "backcall==0.2.0\r\n",
      "beautifulsoup4==4.11.1\r\n",
      "bleach==5.0.1\r\n",
      "cffi==1.15.1\r\n",
      "click==8.1.3\r\n",
      "comm==0.1.0\r\n",
      "contourpy==1.0.6\r\n",
      "cycler==0.11.0\r\n",
      "debugpy==1.6.3\r\n",
      "decorator==5.1.1\r\n",
      "defusedxml==0.7.1\r\n",
      "dill==0.3.4\r\n",
      "entrypoints==0.4\r\n",
      "executing==1.2.0\r\n",
      "fastjsonschema==2.16.2\r\n",
      "Flask==2.2.2\r\n",
      "fonttools==4.38.0\r\n",
      "idna==3.4\r\n",
      "importlib-metadata==5.0.0\r\n",
      "importlib-resources==5.10.0\r\n",
      "ipykernel==6.18.0\r\n",
      "ipython==8.6.0\r\n",
      "ipython-genutils==0.2.0\r\n",
      "itsdangerous==2.1.2\r\n",
      "jedi==0.18.1\r\n",
      "Jinja2==3.1.2\r\n",
      "joblib==1.2.0\r\n",
      "jsonschema==4.17.0\r\n",
      "jupyter-server==1.23.3\r\n",
      "jupyter_client==7.4.7\r\n",
      "jupyter_core==5.0.0\r\n",
      "jupyterlab-pygments==0.2.2\r\n",
      "kiwisolver==1.4.4\r\n",
      "MarkupSafe==2.1.1\r\n",
      "matplotlib==3.6.2\r\n",
      "matplotlib-inline==0.1.6\r\n",
      "mistune==2.0.4\r\n",
      "nbclassic==0.4.8\r\n",
      "nbclient==0.7.0\r\n",
      "nbconvert==7.2.5\r\n",
      "nbformat==5.7.0\r\n",
      "nest-asyncio==1.5.6\r\n",
      "notebook==6.5.2\r\n",
      "notebook_shim==0.2.2\r\n",
      "numpy==1.23.5\r\n",
      "packaging==21.3\r\n",
      "pandas==1.5.2\r\n",
      "pandocfilters==1.5.0\r\n",
      "parso==0.8.3\r\n",
      "pexpect==4.8.0\r\n",
      "pickleshare==0.7.5\r\n",
      "Pillow==9.3.0\r\n",
      "pkgutil_resolve_name==1.3.10\r\n",
      "platformdirs==2.5.4\r\n",
      "prometheus-client==0.15.0\r\n",
      "prompt-toolkit==3.0.33\r\n",
      "psutil==5.9.4\r\n",
      "ptyprocess==0.7.0\r\n",
      "pure-eval==0.2.2\r\n",
      "pycparser==2.21\r\n",
      "Pygments==2.13.0\r\n",
      "pyparsing==3.0.9\r\n",
      "pyrsistent==0.19.2\r\n",
      "python-dateutil==2.8.2\r\n",
      "pytz==2022.6\r\n",
      "pyzmq==24.0.1\r\n",
      "scikit-learn==1.1.3\r\n",
      "scipy==1.9.3\r\n",
      "Send2Trash==1.8.0\r\n",
      "session-info==1.0.0\r\n",
      "six==1.16.0\r\n",
      "sklearn==0.0.post1\r\n",
      "sniffio==1.3.0\r\n",
      "soupsieve==2.3.2.post1\r\n",
      "stack-data==0.6.1\r\n",
      "stdlib-list==0.8.0\r\n",
      "terminado==0.17.0\r\n",
      "threadpoolctl==3.1.0\r\n",
      "tinycss2==1.2.1\r\n",
      "tornado==6.2\r\n",
      "traitlets==5.5.0\r\n",
      "wcwidth==0.2.5\r\n",
      "webencodings==0.5.1\r\n",
      "websocket-client==1.4.2\r\n",
      "Werkzeug==2.2.2\r\n",
      "xgboost==1.7.1\r\n",
      "zipp==3.10.0\r\n"
     ]
    }
   ],
   "source": [
    "!pip freeze"
   ]
  }
 ],
 "metadata": {
  "colab": {
   "provenance": []
  },
  "kernelspec": {
   "display_name": "Python 3 (ipykernel)",
   "language": "python",
   "name": "python3"
  },
  "language_info": {
   "codemirror_mode": {
    "name": "ipython",
    "version": 3
   },
   "file_extension": ".py",
   "mimetype": "text/x-python",
   "name": "python",
   "nbconvert_exporter": "python",
   "pygments_lexer": "ipython3",
   "version": "3.8.7"
  }
 },
 "nbformat": 4,
 "nbformat_minor": 1
}
